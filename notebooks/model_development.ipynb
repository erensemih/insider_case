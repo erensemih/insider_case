{
 "cells": [
  {
   "cell_type": "code",
   "execution_count": 1,
   "id": "d0e5b2b3",
   "metadata": {
    "_cell_guid": "b1076dfc-b9ad-4769-8c92-a6c4dae69d19",
    "_uuid": "8f2839f25d086af736a60e9eeb907d3b93b6e0e5",
    "execution": {
     "iopub.execute_input": "2024-07-24T08:44:18.020935Z",
     "iopub.status.busy": "2024-07-24T08:44:18.019839Z",
     "iopub.status.idle": "2024-07-24T08:44:18.913671Z",
     "shell.execute_reply": "2024-07-24T08:44:18.912557Z"
    },
    "papermill": {
     "duration": 0.905954,
     "end_time": "2024-07-24T08:44:18.916127",
     "exception": false,
     "start_time": "2024-07-24T08:44:18.010173",
     "status": "completed"
    },
    "tags": []
   },
   "outputs": [],
   "source": [
    "import numpy as np\n",
    "import pandas as pd\n",
    "import ast\n",
    "import matplotlib.pyplot as plt\n"
   ]
  },
  {
   "cell_type": "markdown",
   "id": "cfd72948",
   "metadata": {
    "papermill": {
     "duration": 0.006455,
     "end_time": "2024-07-24T08:44:18.929519",
     "exception": false,
     "start_time": "2024-07-24T08:44:18.923064",
     "status": "completed"
    },
    "tags": []
   },
   "source": [
    "### I approached this problem as a ranking issue based on whether users viewed product details in certain categories during a session. In other words, I created a dataset where if a user viewed the details of a product in a category during a session, it was marked as 1, otherwise as 0. I then ranked the categories within session ID groups and recommended the categories that were ranked highest."
   ]
  },
  {
   "cell_type": "code",
   "execution_count": 2,
   "id": "f56842f7",
   "metadata": {
    "execution": {
     "iopub.execute_input": "2024-07-24T08:44:18.944615Z",
     "iopub.status.busy": "2024-07-24T08:44:18.944124Z",
     "iopub.status.idle": "2024-07-24T08:44:21.414891Z",
     "shell.execute_reply": "2024-07-24T08:44:21.413772Z"
    },
    "papermill": {
     "duration": 2.48154,
     "end_time": "2024-07-24T08:44:21.417646",
     "exception": false,
     "start_time": "2024-07-24T08:44:18.936106",
     "status": "completed"
    },
    "tags": []
   },
   "outputs": [],
   "source": [
    "# Reading the dataset and sorting it for proper feature engineering.\n",
    "df = pd.read_parquet(\"/kaggle/input/insider-case-dataset/train.parquet\")\n",
    "df.sort_values([\"userId\", \"date\"],inplace=True, ignore_index=True)"
   ]
  },
  {
   "cell_type": "code",
   "execution_count": 3,
   "id": "d3ab6ce8",
   "metadata": {
    "execution": {
     "iopub.execute_input": "2024-07-24T08:44:21.433420Z",
     "iopub.status.busy": "2024-07-24T08:44:21.432519Z",
     "iopub.status.idle": "2024-07-24T08:44:29.855381Z",
     "shell.execute_reply": "2024-07-24T08:44:29.854173Z"
    },
    "papermill": {
     "duration": 8.433631,
     "end_time": "2024-07-24T08:44:29.858150",
     "exception": false,
     "start_time": "2024-07-24T08:44:21.424519",
     "status": "completed"
    },
    "tags": []
   },
   "outputs": [],
   "source": [
    "#extracting the lists from string expression to correctly handling category column.\n",
    "\n",
    "# Function to convert string to list\n",
    "def convert_to_list(item):\n",
    "    try:\n",
    "        return ast.literal_eval(item)\n",
    "    except (ValueError, SyntaxError):\n",
    "        return []\n",
    "\n",
    "# Apply the conversion function\n",
    "df['category'] = df['category'].apply(convert_to_list)\n",
    "\n",
    "#extracting the category names as string inside lists. If the list is empty it is replaced with \"-\"\n",
    "def create_string(lst):\n",
    "    return ', '.join(lst) if lst else '-'\n",
    "\n",
    "# Apply the string creation function\n",
    "df['category'] = df['category'].apply(create_string)"
   ]
  },
  {
   "cell_type": "markdown",
   "id": "fede66e2",
   "metadata": {
    "papermill": {
     "duration": 0.006533,
     "end_time": "2024-07-24T08:44:29.871540",
     "exception": false,
     "start_time": "2024-07-24T08:44:29.865007",
     "status": "completed"
    },
    "tags": []
   },
   "source": [
    "### Feature Engieering"
   ]
  },
  {
   "cell_type": "code",
   "execution_count": 4,
   "id": "481b8728",
   "metadata": {
    "execution": {
     "iopub.execute_input": "2024-07-24T08:44:29.887016Z",
     "iopub.status.busy": "2024-07-24T08:44:29.886110Z",
     "iopub.status.idle": "2024-07-24T08:44:30.085926Z",
     "shell.execute_reply": "2024-07-24T08:44:30.084799Z"
    },
    "papermill": {
     "duration": 0.21074,
     "end_time": "2024-07-24T08:44:30.088898",
     "exception": false,
     "start_time": "2024-07-24T08:44:29.878158",
     "status": "completed"
    },
    "tags": []
   },
   "outputs": [],
   "source": [
    "df[\"cost_change\"] = np.log1p(df[\"oldProductPrice\"])-np.log1p(df[\"productPrice\"])\n",
    "\n",
    "#Creating boolean columns to detect if a user clicked the product detail, success and cart page or not to create user based aggregated time series features\n",
    "df[\"page_view_bool\"] = 0\n",
    "df.loc[df[\"pageType\"]==\"productDetail\", \"page_view_bool\"] = 1\n",
    "\n",
    "df[\"success_bool\"] = 0\n",
    "df.loc[df[\"pageType\"]==\"success\", \"success_bool\"] = 1\n",
    "\n",
    "df[\"cart_bool\"] = 0\n",
    "df.loc[df[\"pageType\"]==\"cart\", \"cart_bool\"] = 1"
   ]
  },
  {
   "cell_type": "code",
   "execution_count": null,
   "id": "cedb6cba",
   "metadata": {
    "papermill": {
     "duration": 0.006888,
     "end_time": "2024-07-24T08:44:30.103941",
     "exception": false,
     "start_time": "2024-07-24T08:44:30.097053",
     "status": "completed"
    },
    "tags": []
   },
   "outputs": [],
   "source": []
  },
  {
   "cell_type": "code",
   "execution_count": 5,
   "id": "4d417389",
   "metadata": {
    "execution": {
     "iopub.execute_input": "2024-07-24T08:44:30.120094Z",
     "iopub.status.busy": "2024-07-24T08:44:30.119748Z",
     "iopub.status.idle": "2024-07-24T08:44:32.040766Z",
     "shell.execute_reply": "2024-07-24T08:44:32.039641Z"
    },
    "papermill": {
     "duration": 1.931973,
     "end_time": "2024-07-24T08:44:32.043505",
     "exception": false,
     "start_time": "2024-07-24T08:44:30.111532",
     "status": "completed"
    },
    "tags": []
   },
   "outputs": [],
   "source": [
    "# Having some aggregations to extract knowledge from previous sessions of users.\n",
    "session_activity_counts = df.groupby([\"userId\",\"sessionId\"],as_index=False).size()\n",
    "session_activity_counts.rename(columns={\"size\":\"all_session_actions_feature\"},inplace=True)\n",
    "session_page_view_agg = df.groupby([\"userId\",\"sessionId\"],as_index=False)[\"page_view_bool\"].mean()\n",
    "session_page_view_agg.rename(columns={\"page_view_bool\":\"session_page_views_feature\"},inplace=True)\n",
    "session_success_agg = df.groupby([\"userId\",\"sessionId\"],as_index=False)[\"success_bool\"].mean()\n",
    "session_success_agg.rename(columns={\"success_bool\":\"session_success_feature\"},inplace=True)\n",
    "\n",
    "session_cart_agg = df.groupby([\"userId\",\"sessionId\"],as_index=False)[\"cart_bool\"].mean()\n",
    "session_cart_agg.rename(columns={\"cart_bool\":\"session_cart_feature\"},inplace=True)\n",
    "\n",
    "session_cost_change_agg = df.groupby([\"userId\",\"sessionId\"],as_index=False)[\"cost_change\"].mean()\n",
    "session_cost_change_agg.rename(columns={\"cost_change\":\"session_cost_change_feature\"},inplace=True)\n"
   ]
  },
  {
   "cell_type": "code",
   "execution_count": 6,
   "id": "6fe598a2",
   "metadata": {
    "execution": {
     "iopub.execute_input": "2024-07-24T08:44:32.058705Z",
     "iopub.status.busy": "2024-07-24T08:44:32.058289Z",
     "iopub.status.idle": "2024-07-24T08:44:36.440019Z",
     "shell.execute_reply": "2024-07-24T08:44:36.438935Z"
    },
    "papermill": {
     "duration": 4.392402,
     "end_time": "2024-07-24T08:44:36.442678",
     "exception": false,
     "start_time": "2024-07-24T08:44:32.050276",
     "status": "completed"
    },
    "tags": []
   },
   "outputs": [],
   "source": [
    "# Calculating lags and lagged rolling averages of the aggregations to prevent data leakage.\n",
    "session_activity_counts[\"all_session_actions_feature_lag_1\"] = session_activity_counts.groupby(\"userId\")[\"all_session_actions_feature\"].shift(1).fillna(0)\n",
    "session_activity_counts[\"all_session_actions_feature_lag_1_rolling_3_mean\"] = session_activity_counts.groupby(\"userId\")[\"all_session_actions_feature_lag_1\"].rolling(3, min_periods=1).mean().reset_index(drop=True)\n",
    "\n",
    "session_page_view_agg[\"session_page_views_feature_lag_1\"] = session_page_view_agg.groupby(\"userId\")[\"session_page_views_feature\"].shift(1).fillna(0)\n",
    "session_page_view_agg[\"session_page_views_feature_lag_1_rolling_3_mean\"] = session_page_view_agg.groupby(\"userId\")[\"session_page_views_feature_lag_1\"].rolling(3, min_periods=1).mean().reset_index(drop=True)\n",
    "\n",
    "session_success_agg[\"session_success_feature_lag_1\"] = session_success_agg.groupby(\"userId\")[\"session_success_feature\"].shift(1).fillna(0)\n",
    "session_success_agg[\"session_success_feature_lag_1_rolling_3_mean\"] = session_success_agg.groupby(\"userId\")[\"session_success_feature_lag_1\"].rolling(3, min_periods=1).mean().reset_index(drop=True)\n",
    "\n",
    "session_cart_agg[\"session_cart_feature_lag_1\"] = session_cart_agg.groupby(\"userId\")[\"session_cart_feature\"].shift(1).fillna(0)\n",
    "session_cart_agg[\"session_cart_feature_lag_1_rolling_3_mean\"] = session_cart_agg.groupby(\"userId\")[\"session_cart_feature_lag_1\"].rolling(3, min_periods=1).mean().reset_index(drop=True)\n",
    "\n",
    "\n",
    "session_cost_change_agg[\"session_cost_change_feature_lag_1\"] = session_cost_change_agg.groupby(\"userId\")[\"session_cost_change_feature\"].shift(1).fillna(0)\n",
    "session_cost_change_agg[\"session_cost_change_feature_lag_1_rolling_3_mean\"] = session_cost_change_agg.groupby(\"userId\")[\"session_cost_change_feature_lag_1\"].rolling(3, min_periods=1).mean().reset_index(drop=True)"
   ]
  },
  {
   "cell_type": "code",
   "execution_count": 7,
   "id": "77d092b9",
   "metadata": {
    "execution": {
     "iopub.execute_input": "2024-07-24T08:44:36.458399Z",
     "iopub.status.busy": "2024-07-24T08:44:36.458023Z",
     "iopub.status.idle": "2024-07-24T08:44:37.303724Z",
     "shell.execute_reply": "2024-07-24T08:44:37.302624Z"
    },
    "papermill": {
     "duration": 0.856334,
     "end_time": "2024-07-24T08:44:37.306425",
     "exception": false,
     "start_time": "2024-07-24T08:44:36.450091",
     "status": "completed"
    },
    "tags": []
   },
   "outputs": [
    {
     "data": {
      "image/png": "[encoded data removed]",
      "text/plain": [
       "<Figure size 1000x600 with 1 Axes>"
      ]
     },
     "metadata": {},
     "output_type": "display_data"
    }
   ],
   "source": [
    "\n",
    "#For simplicity I wanted to use the most frequent categories which are able to conver almost 99% of the dataset.\n",
    "\n",
    "# Plot the Series\n",
    "plt.figure(figsize=(10, 6))\n",
    "pd.Series(df[df[\"category\"]!=\"-\"][\"category\"].value_counts(normalize=True).expanding().sum().values).plot(title='Expading Category Counts', legend=True)\n",
    "plt.xlabel('Index')\n",
    "plt.ylabel('Values')\n",
    "plt.show()\n",
    "\n",
    "\n",
    "# I selected the number as 100 by considering the figure\n",
    "top_100_categories = df[df[\"category\"]!=\"-\"][\"category\"].value_counts(normalize=True).index[:100].to_list()"
   ]
  },
  {
   "cell_type": "code",
   "execution_count": 8,
   "id": "5298e964",
   "metadata": {
    "execution": {
     "iopub.execute_input": "2024-07-24T08:44:37.322948Z",
     "iopub.status.busy": "2024-07-24T08:44:37.322565Z",
     "iopub.status.idle": "2024-07-24T08:44:37.594844Z",
     "shell.execute_reply": "2024-07-24T08:44:37.593761Z"
    },
    "papermill": {
     "duration": 0.283775,
     "end_time": "2024-07-24T08:44:37.597499",
     "exception": false,
     "start_time": "2024-07-24T08:44:37.313724",
     "status": "completed"
    },
    "tags": []
   },
   "outputs": [],
   "source": [
    "# Filtering all positive examples to start building the training dataset. If there is no product detail click in a single sesssion there is no point for ranking.\n",
    "cond1 = df[\"pageType\"]==\"productDetail\"\n",
    "train = df[cond1].copy()"
   ]
  },
  {
   "cell_type": "code",
   "execution_count": 9,
   "id": "8d77e390",
   "metadata": {
    "execution": {
     "iopub.execute_input": "2024-07-24T08:44:37.613901Z",
     "iopub.status.busy": "2024-07-24T08:44:37.613255Z",
     "iopub.status.idle": "2024-07-24T08:44:37.947855Z",
     "shell.execute_reply": "2024-07-24T08:44:37.946897Z"
    },
    "papermill": {
     "duration": 0.345629,
     "end_time": "2024-07-24T08:44:37.950422",
     "exception": false,
     "start_time": "2024-07-24T08:44:37.604793",
     "status": "completed"
    },
    "tags": []
   },
   "outputs": [],
   "source": [
    "# Aggregations based on [\"userId\",\"sessionId\",\"category\"] to obtain how many product detail clicks each category has received \n",
    "\n",
    "train_grp = train[[\"userId\",\"sessionId\",\"category\",\"itemId\"]].groupby([\"userId\",\"sessionId\",\"category\"], as_index=False).agg({\n",
    "     \"itemId\":[\"nunique\"]\n",
    "})\n",
    "\n",
    "\n",
    "train_grp.columns = [ \"userId\",\"sessionId\", \"category\", \"itemId_nunique\"]\n"
   ]
  },
  {
   "cell_type": "code",
   "execution_count": 10,
   "id": "908a4698",
   "metadata": {
    "execution": {
     "iopub.execute_input": "2024-07-24T08:44:37.966713Z",
     "iopub.status.busy": "2024-07-24T08:44:37.966015Z",
     "iopub.status.idle": "2024-07-24T08:44:37.982664Z",
     "shell.execute_reply": "2024-07-24T08:44:37.981492Z"
    },
    "papermill": {
     "duration": 0.027445,
     "end_time": "2024-07-24T08:44:37.985082",
     "exception": false,
     "start_time": "2024-07-24T08:44:37.957637",
     "status": "completed"
    },
    "tags": []
   },
   "outputs": [
    {
     "data": {
      "text/html": [
       "<div>\n",
       "<style scoped>\n",
       "    .dataframe tbody tr th:only-of-type {\n",
       "        vertical-align: middle;\n",
       "    }\n",
       "\n",
       "    .dataframe tbody tr th {\n",
       "        vertical-align: top;\n",
       "    }\n",
       "\n",
       "    .dataframe thead th {\n",
       "        text-align: right;\n",
       "    }\n",
       "</style>\n",
       "<table border=\"1\" class=\"dataframe\">\n",
       "  <thead>\n",
       "    <tr style=\"text-align: right;\">\n",
       "      <th></th>\n",
       "      <th>userId</th>\n",
       "      <th>sessionId</th>\n",
       "      <th>category</th>\n",
       "      <th>itemId_nunique</th>\n",
       "    </tr>\n",
       "  </thead>\n",
       "  <tbody>\n",
       "    <tr>\n",
       "      <th>0</th>\n",
       "      <td>0001d86ea81e6eef12cebaa1dcbdadc2</td>\n",
       "      <td>06682b9d75eaa78be62b2be307ac7b683191169acec7ad...</td>\n",
       "      <td>kadın ayakkabi, terlik</td>\n",
       "      <td>1</td>\n",
       "    </tr>\n",
       "    <tr>\n",
       "      <th>1</th>\n",
       "      <td>000a53fe09a2a3decd11b6b30d703b9c</td>\n",
       "      <td>039a27cc12b7e96e7b6c1451f9afbbd26c4b033f8d04d3...</td>\n",
       "      <td>erkek ayakkabı, klasik ayakkabı</td>\n",
       "      <td>2</td>\n",
       "    </tr>\n",
       "    <tr>\n",
       "      <th>2</th>\n",
       "      <td>000a53fe09a2a3decd11b6b30d703b9c</td>\n",
       "      <td>2b5cceaf893bffa49656d179dab5cd589322d6fb47b91f...</td>\n",
       "      <td>erkek ayakkabı, klasik ayakkabı</td>\n",
       "      <td>1</td>\n",
       "    </tr>\n",
       "    <tr>\n",
       "      <th>3</th>\n",
       "      <td>000a53fe09a2a3decd11b6b30d703b9c</td>\n",
       "      <td>2b5cceaf893bffa49656d179dab5cd589322d6fb47b91f...</td>\n",
       "      <td>erkek ayakkabı, loafer</td>\n",
       "      <td>1</td>\n",
       "    </tr>\n",
       "    <tr>\n",
       "      <th>4</th>\n",
       "      <td>000a53fe09a2a3decd11b6b30d703b9c</td>\n",
       "      <td>e75f689b359c2adf0a71331dce21d6c9e56fdb360d107b...</td>\n",
       "      <td>erkek ayakkabı, günlük ayakkabı</td>\n",
       "      <td>1</td>\n",
       "    </tr>\n",
       "    <tr>\n",
       "      <th>...</th>\n",
       "      <td>...</td>\n",
       "      <td>...</td>\n",
       "      <td>...</td>\n",
       "      <td>...</td>\n",
       "    </tr>\n",
       "    <tr>\n",
       "      <th>79206</th>\n",
       "      <td>fff50b42b75dcd43904f5957e27f313a</td>\n",
       "      <td>ef4031d5c3dd1ca7b81c79ac1f1c466dd8fb7f3970bcfb...</td>\n",
       "      <td>erkek deri giyim, deri ceket</td>\n",
       "      <td>1</td>\n",
       "    </tr>\n",
       "    <tr>\n",
       "      <th>79207</th>\n",
       "      <td>fff50b42b75dcd43904f5957e27f313a</td>\n",
       "      <td>ef4031d5c3dd1ca7b81c79ac1f1c466dd8fb7f3970bcfb...</td>\n",
       "      <td>erkek deri giyim, deri kaban</td>\n",
       "      <td>1</td>\n",
       "    </tr>\n",
       "    <tr>\n",
       "      <th>79208</th>\n",
       "      <td>fff50b42b75dcd43904f5957e27f313a</td>\n",
       "      <td>ef4031d5c3dd1ca7b81c79ac1f1c466dd8fb7f3970bcfb...</td>\n",
       "      <td>erkek deri giyim, deri mont</td>\n",
       "      <td>2</td>\n",
       "    </tr>\n",
       "    <tr>\n",
       "      <th>79209</th>\n",
       "      <td>fffbf34dc7731aa74a5c29ddd3de1c94</td>\n",
       "      <td>b022fb7b34d6676a75342b0b28456f84ef1b361d2777e8...</td>\n",
       "      <td>kadın çanta, omuz askılı çanta</td>\n",
       "      <td>1</td>\n",
       "    </tr>\n",
       "    <tr>\n",
       "      <th>79210</th>\n",
       "      <td>fffbf34dc7731aa74a5c29ddd3de1c94</td>\n",
       "      <td>fb0721e8c3cc87f9010cd73f9f050d4fa9f5b3298fc383...</td>\n",
       "      <td>kadın çanta, omuz askılı çanta</td>\n",
       "      <td>1</td>\n",
       "    </tr>\n",
       "  </tbody>\n",
       "</table>\n",
       "<p>79211 rows × 4 columns</p>\n",
       "</div>"
      ],
      "text/plain": [
       "                                 userId  \\\n",
       "0      0001d86ea81e6eef12cebaa1dcbdadc2   \n",
       "1      000a53fe09a2a3decd11b6b30d703b9c   \n",
       "2      000a53fe09a2a3decd11b6b30d703b9c   \n",
       "3      000a53fe09a2a3decd11b6b30d703b9c   \n",
       "4      000a53fe09a2a3decd11b6b30d703b9c   \n",
       "...                                 ...   \n",
       "79206  fff50b42b75dcd43904f5957e27f313a   \n",
       "79207  fff50b42b75dcd43904f5957e27f313a   \n",
       "79208  fff50b42b75dcd43904f5957e27f313a   \n",
       "79209  fffbf34dc7731aa74a5c29ddd3de1c94   \n",
       "79210  fffbf34dc7731aa74a5c29ddd3de1c94   \n",
       "\n",
       "                                               sessionId  \\\n",
       "0      06682b9d75eaa78be62b2be307ac7b683191169acec7ad...   \n",
       "1      039a27cc12b7e96e7b6c1451f9afbbd26c4b033f8d04d3...   \n",
       "2      2b5cceaf893bffa49656d179dab5cd589322d6fb47b91f...   \n",
       "3      2b5cceaf893bffa49656d179dab5cd589322d6fb47b91f...   \n",
       "4      e75f689b359c2adf0a71331dce21d6c9e56fdb360d107b...   \n",
       "...                                                  ...   \n",
       "79206  ef4031d5c3dd1ca7b81c79ac1f1c466dd8fb7f3970bcfb...   \n",
       "79207  ef4031d5c3dd1ca7b81c79ac1f1c466dd8fb7f3970bcfb...   \n",
       "79208  ef4031d5c3dd1ca7b81c79ac1f1c466dd8fb7f3970bcfb...   \n",
       "79209  b022fb7b34d6676a75342b0b28456f84ef1b361d2777e8...   \n",
       "79210  fb0721e8c3cc87f9010cd73f9f050d4fa9f5b3298fc383...   \n",
       "\n",
       "                              category  itemId_nunique  \n",
       "0               kadın ayakkabi, terlik               1  \n",
       "1      erkek ayakkabı, klasik ayakkabı               2  \n",
       "2      erkek ayakkabı, klasik ayakkabı               1  \n",
       "3               erkek ayakkabı, loafer               1  \n",
       "4      erkek ayakkabı, günlük ayakkabı               1  \n",
       "...                                ...             ...  \n",
       "79206     erkek deri giyim, deri ceket               1  \n",
       "79207     erkek deri giyim, deri kaban               1  \n",
       "79208      erkek deri giyim, deri mont               2  \n",
       "79209   kadın çanta, omuz askılı çanta               1  \n",
       "79210   kadın çanta, omuz askılı çanta               1  \n",
       "\n",
       "[79211 rows x 4 columns]"
      ]
     },
     "execution_count": 10,
     "metadata": {},
     "output_type": "execute_result"
    }
   ],
   "source": [
    "train_grp"
   ]
  },
  {
   "cell_type": "markdown",
   "id": "922d5142",
   "metadata": {
    "papermill": {
     "duration": 0.007239,
     "end_time": "2024-07-24T08:44:37.999957",
     "exception": false,
     "start_time": "2024-07-24T08:44:37.992718",
     "status": "completed"
    },
    "tags": []
   },
   "source": [
    "### Negative Sampling"
   ]
  },
  {
   "cell_type": "code",
   "execution_count": 11,
   "id": "d4ed5a8d",
   "metadata": {
    "execution": {
     "iopub.execute_input": "2024-07-24T08:44:38.017166Z",
     "iopub.status.busy": "2024-07-24T08:44:38.016825Z",
     "iopub.status.idle": "2024-07-24T08:44:57.189981Z",
     "shell.execute_reply": "2024-07-24T08:44:57.188917Z"
    },
    "papermill": {
     "duration": 19.184966,
     "end_time": "2024-07-24T08:44:57.192539",
     "exception": false,
     "start_time": "2024-07-24T08:44:38.007573",
     "status": "completed"
    },
    "tags": []
   },
   "outputs": [],
   "source": [
    "# Until now we only considered positive samples which mean all categories having some amount of detail views. To implement ranking we should upsample the dataset\n",
    "# for never seen categories for each session.\n",
    "\n",
    "\n",
    "# Create a DataFrame with unique userId and sessionId\n",
    "unique_sessions = train_grp[['userId', 'sessionId']].drop_duplicates().reset_index(drop=True)\n",
    "\n",
    "# Create negative samples for each unique session\n",
    "negative_samples = [\n",
    "    pd.DataFrame({\n",
    "        'userId': user,\n",
    "        'sessionId': session,\n",
    "        'category': top_100_categories,\n",
    "        'itemId_nunique': 0\n",
    "    })\n",
    "    for user, session in zip(unique_sessions['userId'], unique_sessions['sessionId'])\n",
    "]\n",
    "# Concatenate all negative samples and the original train_grp\n",
    "full_train = pd.concat([train_grp] + negative_samples, ignore_index=True)\n"
   ]
  },
  {
   "cell_type": "code",
   "execution_count": 12,
   "id": "cef14ceb",
   "metadata": {
    "execution": {
     "iopub.execute_input": "2024-07-24T08:44:57.209566Z",
     "iopub.status.busy": "2024-07-24T08:44:57.209137Z",
     "iopub.status.idle": "2024-07-24T08:45:00.561149Z",
     "shell.execute_reply": "2024-07-24T08:45:00.560008Z"
    },
    "papermill": {
     "duration": 3.363675,
     "end_time": "2024-07-24T08:45:00.563839",
     "exception": false,
     "start_time": "2024-07-24T08:44:57.200164",
     "status": "completed"
    },
    "tags": []
   },
   "outputs": [],
   "source": [
    "# Above we added already seen category instances too. We should remove the new added(negative ones) by dropping duplicates.\n",
    "full_train.drop_duplicates([\"userId\",\"sessionId\",\"category\"], keep=\"first\", ignore_index=True,inplace=True)"
   ]
  },
  {
   "cell_type": "code",
   "execution_count": 13,
   "id": "eb91968c",
   "metadata": {
    "execution": {
     "iopub.execute_input": "2024-07-24T08:45:00.581168Z",
     "iopub.status.busy": "2024-07-24T08:45:00.580790Z",
     "iopub.status.idle": "2024-07-24T08:45:01.479794Z",
     "shell.execute_reply": "2024-07-24T08:45:01.478652Z"
    },
    "papermill": {
     "duration": 0.910608,
     "end_time": "2024-07-24T08:45:01.482389",
     "exception": false,
     "start_time": "2024-07-24T08:45:00.571781",
     "status": "completed"
    },
    "tags": []
   },
   "outputs": [],
   "source": [
    "#sorting all sessions to make sure to keep time series structure and ranking groups.\n",
    "\n",
    "order_category = train_grp[\"userId\"].drop_duplicates().values\n",
    "order_subcategory = train_grp[\"sessionId\"].drop_duplicates().values\n",
    "\n",
    "\n",
    "full_train['userId'] = pd.Categorical(full_train['userId'], categories=order_category, ordered=True)\n",
    "full_train['sessionId'] = pd.Categorical(full_train['sessionId'], categories=order_subcategory, ordered=True)\n",
    "\n",
    "# Sort the DataFrame by 'Category' and then 'Subcategory'\n",
    "full_train = full_train.sort_values(['userId', 'sessionId'])"
   ]
  },
  {
   "cell_type": "code",
   "execution_count": 14,
   "id": "b54e791d",
   "metadata": {
    "execution": {
     "iopub.execute_input": "2024-07-24T08:45:01.499185Z",
     "iopub.status.busy": "2024-07-24T08:45:01.498820Z",
     "iopub.status.idle": "2024-07-24T08:45:01.512456Z",
     "shell.execute_reply": "2024-07-24T08:45:01.511229Z"
    },
    "papermill": {
     "duration": 0.024826,
     "end_time": "2024-07-24T08:45:01.514823",
     "exception": false,
     "start_time": "2024-07-24T08:45:01.489997",
     "status": "completed"
    },
    "tags": []
   },
   "outputs": [
    {
     "data": {
      "text/html": [
       "<div>\n",
       "<style scoped>\n",
       "    .dataframe tbody tr th:only-of-type {\n",
       "        vertical-align: middle;\n",
       "    }\n",
       "\n",
       "    .dataframe tbody tr th {\n",
       "        vertical-align: top;\n",
       "    }\n",
       "\n",
       "    .dataframe thead th {\n",
       "        text-align: right;\n",
       "    }\n",
       "</style>\n",
       "<table border=\"1\" class=\"dataframe\">\n",
       "  <thead>\n",
       "    <tr style=\"text-align: right;\">\n",
       "      <th></th>\n",
       "      <th>userId</th>\n",
       "      <th>sessionId</th>\n",
       "      <th>category</th>\n",
       "      <th>itemId_nunique</th>\n",
       "    </tr>\n",
       "  </thead>\n",
       "  <tbody>\n",
       "    <tr>\n",
       "      <th>0</th>\n",
       "      <td>0001d86ea81e6eef12cebaa1dcbdadc2</td>\n",
       "      <td>06682b9d75eaa78be62b2be307ac7b683191169acec7ad...</td>\n",
       "      <td>kadın ayakkabi, terlik</td>\n",
       "      <td>1</td>\n",
       "    </tr>\n",
       "    <tr>\n",
       "      <th>79211</th>\n",
       "      <td>0001d86ea81e6eef12cebaa1dcbdadc2</td>\n",
       "      <td>06682b9d75eaa78be62b2be307ac7b683191169acec7ad...</td>\n",
       "      <td>kadın ayakkabi, sandalet</td>\n",
       "      <td>0</td>\n",
       "    </tr>\n",
       "    <tr>\n",
       "      <th>79212</th>\n",
       "      <td>0001d86ea81e6eef12cebaa1dcbdadc2</td>\n",
       "      <td>06682b9d75eaa78be62b2be307ac7b683191169acec7ad...</td>\n",
       "      <td>kadın ayakkabi</td>\n",
       "      <td>0</td>\n",
       "    </tr>\n",
       "    <tr>\n",
       "      <th>79213</th>\n",
       "      <td>0001d86ea81e6eef12cebaa1dcbdadc2</td>\n",
       "      <td>06682b9d75eaa78be62b2be307ac7b683191169acec7ad...</td>\n",
       "      <td>kadın ayakkabi, günlük ayakkabı</td>\n",
       "      <td>0</td>\n",
       "    </tr>\n",
       "    <tr>\n",
       "      <th>79214</th>\n",
       "      <td>0001d86ea81e6eef12cebaa1dcbdadc2</td>\n",
       "      <td>06682b9d75eaa78be62b2be307ac7b683191169acec7ad...</td>\n",
       "      <td>erkek ayakkabı, günlük ayakkabı</td>\n",
       "      <td>0</td>\n",
       "    </tr>\n",
       "    <tr>\n",
       "      <th>...</th>\n",
       "      <td>...</td>\n",
       "      <td>...</td>\n",
       "      <td>...</td>\n",
       "      <td>...</td>\n",
       "    </tr>\n",
       "    <tr>\n",
       "      <th>5519813</th>\n",
       "      <td>fffbf34dc7731aa74a5c29ddd3de1c94</td>\n",
       "      <td>fb0721e8c3cc87f9010cd73f9f050d4fa9f5b3298fc383...</td>\n",
       "      <td>list</td>\n",
       "      <td>0</td>\n",
       "    </tr>\n",
       "    <tr>\n",
       "      <th>5519814</th>\n",
       "      <td>fffbf34dc7731aa74a5c29ddd3de1c94</td>\n",
       "      <td>fb0721e8c3cc87f9010cd73f9f050d4fa9f5b3298fc383...</td>\n",
       "      <td>bodrum sandaletleri</td>\n",
       "      <td>0</td>\n",
       "    </tr>\n",
       "    <tr>\n",
       "      <th>5519815</th>\n",
       "      <td>fffbf34dc7731aa74a5c29ddd3de1c94</td>\n",
       "      <td>fb0721e8c3cc87f9010cd73f9f050d4fa9f5b3298fc383...</td>\n",
       "      <td>kadın deri giyim, deri elbise</td>\n",
       "      <td>0</td>\n",
       "    </tr>\n",
       "    <tr>\n",
       "      <th>5519816</th>\n",
       "      <td>fffbf34dc7731aa74a5c29ddd3de1c94</td>\n",
       "      <td>fb0721e8c3cc87f9010cd73f9f050d4fa9f5b3298fc383...</td>\n",
       "      <td>erkek deri giyim, deri yelek</td>\n",
       "      <td>0</td>\n",
       "    </tr>\n",
       "    <tr>\n",
       "      <th>5519817</th>\n",
       "      <td>fffbf34dc7731aa74a5c29ddd3de1c94</td>\n",
       "      <td>fb0721e8c3cc87f9010cd73f9f050d4fa9f5b3298fc383...</td>\n",
       "      <td>kadın ayakkabi, bakım aksesuarları</td>\n",
       "      <td>0</td>\n",
       "    </tr>\n",
       "  </tbody>\n",
       "</table>\n",
       "<p>5519818 rows × 4 columns</p>\n",
       "</div>"
      ],
      "text/plain": [
       "                                   userId  \\\n",
       "0        0001d86ea81e6eef12cebaa1dcbdadc2   \n",
       "79211    0001d86ea81e6eef12cebaa1dcbdadc2   \n",
       "79212    0001d86ea81e6eef12cebaa1dcbdadc2   \n",
       "79213    0001d86ea81e6eef12cebaa1dcbdadc2   \n",
       "79214    0001d86ea81e6eef12cebaa1dcbdadc2   \n",
       "...                                   ...   \n",
       "5519813  fffbf34dc7731aa74a5c29ddd3de1c94   \n",
       "5519814  fffbf34dc7731aa74a5c29ddd3de1c94   \n",
       "5519815  fffbf34dc7731aa74a5c29ddd3de1c94   \n",
       "5519816  fffbf34dc7731aa74a5c29ddd3de1c94   \n",
       "5519817  fffbf34dc7731aa74a5c29ddd3de1c94   \n",
       "\n",
       "                                                 sessionId  \\\n",
       "0        06682b9d75eaa78be62b2be307ac7b683191169acec7ad...   \n",
       "79211    06682b9d75eaa78be62b2be307ac7b683191169acec7ad...   \n",
       "79212    06682b9d75eaa78be62b2be307ac7b683191169acec7ad...   \n",
       "79213    06682b9d75eaa78be62b2be307ac7b683191169acec7ad...   \n",
       "79214    06682b9d75eaa78be62b2be307ac7b683191169acec7ad...   \n",
       "...                                                    ...   \n",
       "5519813  fb0721e8c3cc87f9010cd73f9f050d4fa9f5b3298fc383...   \n",
       "5519814  fb0721e8c3cc87f9010cd73f9f050d4fa9f5b3298fc383...   \n",
       "5519815  fb0721e8c3cc87f9010cd73f9f050d4fa9f5b3298fc383...   \n",
       "5519816  fb0721e8c3cc87f9010cd73f9f050d4fa9f5b3298fc383...   \n",
       "5519817  fb0721e8c3cc87f9010cd73f9f050d4fa9f5b3298fc383...   \n",
       "\n",
       "                                   category  itemId_nunique  \n",
       "0                    kadın ayakkabi, terlik               1  \n",
       "79211              kadın ayakkabi, sandalet               0  \n",
       "79212                        kadın ayakkabi               0  \n",
       "79213       kadın ayakkabi, günlük ayakkabı               0  \n",
       "79214       erkek ayakkabı, günlük ayakkabı               0  \n",
       "...                                     ...             ...  \n",
       "5519813                                list               0  \n",
       "5519814                 bodrum sandaletleri               0  \n",
       "5519815       kadın deri giyim, deri elbise               0  \n",
       "5519816        erkek deri giyim, deri yelek               0  \n",
       "5519817  kadın ayakkabi, bakım aksesuarları               0  \n",
       "\n",
       "[5519818 rows x 4 columns]"
      ]
     },
     "execution_count": 14,
     "metadata": {},
     "output_type": "execute_result"
    }
   ],
   "source": [
    "full_train"
   ]
  },
  {
   "cell_type": "code",
   "execution_count": 15,
   "id": "3278acba",
   "metadata": {
    "execution": {
     "iopub.execute_input": "2024-07-24T08:45:01.532907Z",
     "iopub.status.busy": "2024-07-24T08:45:01.532028Z",
     "iopub.status.idle": "2024-07-24T08:45:21.633869Z",
     "shell.execute_reply": "2024-07-24T08:45:21.632586Z"
    },
    "papermill": {
     "duration": 20.113749,
     "end_time": "2024-07-24T08:45:21.636616",
     "exception": false,
     "start_time": "2024-07-24T08:45:01.522867",
     "status": "completed"
    },
    "tags": []
   },
   "outputs": [],
   "source": [
    "# merging previously created features to train data.\n",
    "\n",
    "final_train = full_train.merge(session_activity_counts, on=[\"userId\",\"sessionId\"], how=\"left\", validate=\"many_to_one\")\n",
    "final_train = final_train.merge(session_page_view_agg, on=[\"userId\",\"sessionId\"], how=\"left\", validate=\"many_to_one\")\n",
    "final_train = final_train.merge(session_success_agg, on=[\"userId\",\"sessionId\"], how=\"left\", validate=\"many_to_one\")\n",
    "final_train = final_train.merge(session_cart_agg, on=[\"userId\",\"sessionId\"], how=\"left\", validate=\"many_to_one\")\n",
    "final_train = final_train.merge(session_cost_change_agg, on=[\"userId\",\"sessionId\"], how=\"left\", validate=\"many_to_one\")"
   ]
  },
  {
   "cell_type": "code",
   "execution_count": 16,
   "id": "cc1a0435",
   "metadata": {
    "execution": {
     "iopub.execute_input": "2024-07-24T08:45:21.655104Z",
     "iopub.status.busy": "2024-07-24T08:45:21.654012Z",
     "iopub.status.idle": "2024-07-24T08:45:21.659477Z",
     "shell.execute_reply": "2024-07-24T08:45:21.658476Z"
    },
    "papermill": {
     "duration": 0.016864,
     "end_time": "2024-07-24T08:45:21.661730",
     "exception": false,
     "start_time": "2024-07-24T08:45:21.644866",
     "status": "completed"
    },
    "tags": []
   },
   "outputs": [],
   "source": [
    "feature_set = ['all_session_actions_feature', 'all_session_actions_feature_lag_1',\n",
    "       'all_session_actions_feature_lag_1_rolling_3_mean', 'session_page_views_feature',\n",
    "       'session_page_views_feature_lag_1',\n",
    "       'session_page_views_feature_lag_1_rolling_3_mean',\n",
    "       'session_success_feature', 'session_success_feature_lag_1',\n",
    "       'session_success_feature_lag_1_rolling_3_mean', 'session_cart_feature',\n",
    "       'session_cart_feature_lag_1',\n",
    "       'session_cart_feature_lag_1_rolling_3_mean',\n",
    "       'session_cost_change_feature', 'session_cost_change_feature_lag_1',\n",
    "       'session_cost_change_feature_lag_1_rolling_3_mean']"
   ]
  },
  {
   "cell_type": "code",
   "execution_count": 17,
   "id": "b41756b2",
   "metadata": {
    "execution": {
     "iopub.execute_input": "2024-07-24T08:45:21.679037Z",
     "iopub.status.busy": "2024-07-24T08:45:21.678661Z",
     "iopub.status.idle": "2024-07-24T08:45:24.078431Z",
     "shell.execute_reply": "2024-07-24T08:45:24.077387Z"
    },
    "papermill": {
     "duration": 2.411571,
     "end_time": "2024-07-24T08:45:24.081144",
     "exception": false,
     "start_time": "2024-07-24T08:45:21.669573",
     "status": "completed"
    },
    "tags": []
   },
   "outputs": [],
   "source": [
    "#converting the number of click for different product for each category to binary values.\n",
    "# There might be different approaches like quantile cut to have more than 2 levels.\n",
    "final_train[\"target\"] = final_train[\"itemId_nunique\"].apply(lambda x:1 if x>0 else 0)"
   ]
  },
  {
   "cell_type": "markdown",
   "id": "1b28a3a3",
   "metadata": {
    "papermill": {
     "duration": 0.007759,
     "end_time": "2024-07-24T08:45:24.097117",
     "exception": false,
     "start_time": "2024-07-24T08:45:24.089358",
     "status": "completed"
    },
    "tags": []
   },
   "source": [
    "### Model Training"
   ]
  },
  {
   "cell_type": "code",
   "execution_count": null,
   "id": "4e9db03d",
   "metadata": {
    "papermill": {
     "duration": 0.00773,
     "end_time": "2024-07-24T08:45:24.112719",
     "exception": false,
     "start_time": "2024-07-24T08:45:24.104989",
     "status": "completed"
    },
    "tags": []
   },
   "outputs": [],
   "source": []
  },
  {
   "cell_type": "code",
   "execution_count": 18,
   "id": "1cc2a4e9",
   "metadata": {
    "execution": {
     "iopub.execute_input": "2024-07-24T08:45:24.130257Z",
     "iopub.status.busy": "2024-07-24T08:45:24.129880Z",
     "iopub.status.idle": "2024-07-24T08:50:10.394990Z",
     "shell.execute_reply": "2024-07-24T08:50:10.393983Z"
    },
    "papermill": {
     "duration": 286.27692,
     "end_time": "2024-07-24T08:50:10.397665",
     "exception": false,
     "start_time": "2024-07-24T08:45:24.120745",
     "status": "completed"
    },
    "tags": []
   },
   "outputs": [
    {
     "name": "stdout",
     "output_type": "stream",
     "text": [
      "Training until validation scores don't improve for 10 rounds\n",
      "[10]\tvalid_0's ndcg@1: 0.502084\tvalid_0's ndcg@3: 0.506711\tvalid_0's ndcg@5: 0.514147\n",
      "[20]\tvalid_0's ndcg@1: 0.510872\tvalid_0's ndcg@3: 0.515316\tvalid_0's ndcg@5: 0.522744\n",
      "[30]\tvalid_0's ndcg@1: 0.51368\tvalid_0's ndcg@3: 0.518085\tvalid_0's ndcg@5: 0.525577\n",
      "[40]\tvalid_0's ndcg@1: 0.518663\tvalid_0's ndcg@3: 0.522995\tvalid_0's ndcg@5: 0.530432\n",
      "[50]\tvalid_0's ndcg@1: 0.520747\tvalid_0's ndcg@3: 0.525016\tvalid_0's ndcg@5: 0.532496\n",
      "[60]\tvalid_0's ndcg@1: 0.522921\tvalid_0's ndcg@3: 0.527139\tvalid_0's ndcg@5: 0.534624\n",
      "[70]\tvalid_0's ndcg@1: 0.527994\tvalid_0's ndcg@3: 0.532167\tvalid_0's ndcg@5: 0.539619\n",
      "[80]\tvalid_0's ndcg@1: 0.529716\tvalid_0's ndcg@3: 0.53384\tvalid_0's ndcg@5: 0.541313\n",
      "[90]\tvalid_0's ndcg@1: 0.530169\tvalid_0's ndcg@3: 0.534293\tvalid_0's ndcg@5: 0.541625\n",
      "Early stopping, best iteration is:\n",
      "[88]\tvalid_0's ndcg@1: 0.53044\tvalid_0's ndcg@3: 0.53452\tvalid_0's ndcg@5: 0.541887\n",
      "Training until validation scores don't improve for 10 rounds\n",
      "[10]\tvalid_0's ndcg@1: 0.487179\tvalid_0's ndcg@3: 0.48615\tvalid_0's ndcg@5: 0.487658\n",
      "[20]\tvalid_0's ndcg@1: 0.496965\tvalid_0's ndcg@3: 0.495883\tvalid_0's ndcg@5: 0.49736\n",
      "[30]\tvalid_0's ndcg@1: 0.503488\tvalid_0's ndcg@3: 0.502522\tvalid_0's ndcg@5: 0.503925\n",
      "[40]\tvalid_0's ndcg@1: 0.509559\tvalid_0's ndcg@3: 0.508445\tvalid_0's ndcg@5: 0.509827\n",
      "[50]\tvalid_0's ndcg@1: 0.512458\tvalid_0's ndcg@3: 0.511344\tvalid_0's ndcg@5: 0.512761\n",
      "[60]\tvalid_0's ndcg@1: 0.5188\tvalid_0's ndcg@3: 0.517722\tvalid_0's ndcg@5: 0.519123\n",
      "[70]\tvalid_0's ndcg@1: 0.519435\tvalid_0's ndcg@3: 0.518391\tvalid_0's ndcg@5: 0.519781\n",
      "[80]\tvalid_0's ndcg@1: 0.52025\tvalid_0's ndcg@3: 0.519242\tvalid_0's ndcg@5: 0.52067\n",
      "[90]\tvalid_0's ndcg@1: 0.520703\tvalid_0's ndcg@3: 0.519695\tvalid_0's ndcg@5: 0.521178\n",
      "[100]\tvalid_0's ndcg@1: 0.523421\tvalid_0's ndcg@3: 0.522332\tvalid_0's ndcg@5: 0.523776\n",
      "Did not meet early stopping. Best iteration is:\n",
      "[96]\tvalid_0's ndcg@1: 0.523784\tvalid_0's ndcg@3: 0.52273\tvalid_0's ndcg@5: 0.524213\n",
      "Training until validation scores don't improve for 10 rounds\n",
      "[10]\tvalid_0's ndcg@1: 0.513727\tvalid_0's ndcg@3: 0.567933\tvalid_0's ndcg@5: 0.593843\n",
      "[20]\tvalid_0's ndcg@1: 0.521609\tvalid_0's ndcg@3: 0.57413\tvalid_0's ndcg@5: 0.599518\n",
      "[30]\tvalid_0's ndcg@1: 0.526955\tvalid_0's ndcg@3: 0.578535\tvalid_0's ndcg@5: 0.603748\n",
      "[40]\tvalid_0's ndcg@1: 0.530035\tvalid_0's ndcg@3: 0.581283\tvalid_0's ndcg@5: 0.606418\n",
      "[50]\tvalid_0's ndcg@1: 0.531485\tvalid_0's ndcg@3: 0.58264\tvalid_0's ndcg@5: 0.607725\n",
      "[60]\tvalid_0's ndcg@1: 0.536468\tvalid_0's ndcg@3: 0.58734\tvalid_0's ndcg@5: 0.61204\n",
      "Early stopping, best iteration is:\n",
      "[59]\tvalid_0's ndcg@1: 0.53674\tvalid_0's ndcg@3: 0.587612\tvalid_0's ndcg@5: 0.612273\n",
      "Training until validation scores don't improve for 10 rounds\n",
      "[10]\tvalid_0's ndcg@1: 0.508425\tvalid_0's ndcg@3: 0.507918\tvalid_0's ndcg@5: 0.507795\n",
      "[20]\tvalid_0's ndcg@1: 0.508425\tvalid_0's ndcg@3: 0.508044\tvalid_0's ndcg@5: 0.507913\n",
      "Early stopping, best iteration is:\n",
      "[10]\tvalid_0's ndcg@1: 0.508425\tvalid_0's ndcg@3: 0.507918\tvalid_0's ndcg@5: 0.507795\n",
      "Training until validation scores don't improve for 10 rounds\n",
      "[10]\tvalid_0's ndcg@1: 0.52591\tvalid_0's ndcg@3: 0.541499\tvalid_0's ndcg@5: 0.551096\n",
      "[20]\tvalid_0's ndcg@1: 0.526182\tvalid_0's ndcg@3: 0.541781\tvalid_0's ndcg@5: 0.551298\n",
      "Early stopping, best iteration is:\n",
      "[17]\tvalid_0's ndcg@1: 0.527179\tvalid_0's ndcg@3: 0.542643\tvalid_0's ndcg@5: 0.552118\n"
     ]
    }
   ],
   "source": [
    "# Model training part. using group k fold on sessionId groups because it is not desired to make any predictions during the session. The predictions should be made\n",
    "# for the next session just after the current session is over.\n",
    "\n",
    "import lightgbm as lgb\n",
    "from sklearn.model_selection import train_test_split\n",
    "from sklearn.preprocessing import StandardScaler\n",
    "from sklearn.model_selection import GroupKFold\n",
    "\n",
    "early_stopping = lgb.early_stopping(stopping_rounds=10, verbose=True)\n",
    "log_evaluation = lgb.log_evaluation(period=10)\n",
    "\n",
    "gkf = GroupKFold(n_splits=5)\n",
    "\n",
    "# Split the data using GroupKFold\n",
    "for train_index, test_index in gkf.split(final_train.index, final_train[\"target\"], final_train[\"sessionId\"]):\n",
    "    train = final_train.loc[train_index]\n",
    "    test = final_train.loc[test_index]\n",
    "    group_train = train.groupby('sessionId').size().to_list()\n",
    "    group_test = test.groupby('sessionId').size().to_list()\n",
    "    X_train, X_test = train[feature_set], test[feature_set]\n",
    "    y_train, y_test = train[\"target\"], test[\"target\"]\n",
    "    # Setup the LightGBM Ranker\n",
    "    ranker = lgb.LGBMRanker(\n",
    "        objective='lambdarank',\n",
    "        metric='ndcg',\n",
    "        num_leaves=31,\n",
    "        verbose=-1,\n",
    "        learning_rate=0.05,\n",
    "        n_estimators=100\n",
    "    )\n",
    "\n",
    "    # Train the model\n",
    "    ranker.fit(X_train, y_train, group=group_train,\n",
    "               eval_set=[(X_test, y_test)],\n",
    "               eval_group=[group_test],\n",
    "               eval_at=[1, 3, 5],  # Evaluation positions\n",
    "               callbacks=[early_stopping, log_evaluation]\n",
    "               )\n",
    "    # Getting the out of fold predictions for all data.\n",
    "    final_train.loc[test_index,\"oof_predictions\"] = ranker.predict(X_test)"
   ]
  },
  {
   "cell_type": "code",
   "execution_count": 19,
   "id": "1ceacda5",
   "metadata": {
    "execution": {
     "iopub.execute_input": "2024-07-24T08:50:10.421314Z",
     "iopub.status.busy": "2024-07-24T08:50:10.420769Z",
     "iopub.status.idle": "2024-07-24T08:50:12.509682Z",
     "shell.execute_reply": "2024-07-24T08:50:12.508577Z"
    },
    "papermill": {
     "duration": 2.103272,
     "end_time": "2024-07-24T08:50:12.512330",
     "exception": false,
     "start_time": "2024-07-24T08:50:10.409058",
     "status": "completed"
    },
    "tags": []
   },
   "outputs": [],
   "source": [
    "# sorting each sessions predictions to see the rankings of categories\n",
    "sorted_data = final_train.sort_values(['sessionId', 'oof_predictions'], ascending=[True, False],ignore_index=True)"
   ]
  },
  {
   "cell_type": "code",
   "execution_count": 20,
   "id": "4a0367fe",
   "metadata": {
    "execution": {
     "iopub.execute_input": "2024-07-24T08:50:12.535476Z",
     "iopub.status.busy": "2024-07-24T08:50:12.534490Z",
     "iopub.status.idle": "2024-07-24T08:50:13.675556Z",
     "shell.execute_reply": "2024-07-24T08:50:13.674281Z"
    },
    "papermill": {
     "duration": 1.155798,
     "end_time": "2024-07-24T08:50:13.678815",
     "exception": false,
     "start_time": "2024-07-24T08:50:12.523017",
     "status": "completed"
    },
    "tags": []
   },
   "outputs": [],
   "source": [
    "# recommeding to 3 categories ranked by the model.\n",
    "top_n = 3\n",
    "recommendations = sorted_data.groupby('sessionId').head(top_n)\n",
    "\n",
    "# Optionally, you can filter out only the necessary columns\n",
    "recommendations = recommendations[['sessionId', 'category', 'oof_predictions']]\n",
    "\n",
    "# Display or use the recommendations\n"
   ]
  },
  {
   "cell_type": "code",
   "execution_count": 21,
   "id": "fbbfac8b",
   "metadata": {
    "execution": {
     "iopub.execute_input": "2024-07-24T08:50:13.702762Z",
     "iopub.status.busy": "2024-07-24T08:50:13.702353Z",
     "iopub.status.idle": "2024-07-24T08:50:13.707082Z",
     "shell.execute_reply": "2024-07-24T08:50:13.706116Z"
    },
    "papermill": {
     "duration": 0.018673,
     "end_time": "2024-07-24T08:50:13.709261",
     "exception": false,
     "start_time": "2024-07-24T08:50:13.690588",
     "status": "completed"
    },
    "tags": []
   },
   "outputs": [],
   "source": [
    "# Lastly training a single model using all data to have the best performance."
   ]
  },
  {
   "cell_type": "code",
   "execution_count": 22,
   "id": "8ddc98fe",
   "metadata": {
    "execution": {
     "iopub.execute_input": "2024-07-24T08:50:13.731591Z",
     "iopub.status.busy": "2024-07-24T08:50:13.731176Z",
     "iopub.status.idle": "2024-07-24T08:52:09.121306Z",
     "shell.execute_reply": "2024-07-24T08:52:09.120195Z"
    },
    "papermill": {
     "duration": 115.41405,
     "end_time": "2024-07-24T08:52:09.133797",
     "exception": false,
     "start_time": "2024-07-24T08:50:13.719747",
     "status": "completed"
    },
    "tags": []
   },
   "outputs": [
    {
     "data": {
      "text/html": [
       "<style>#sk-container-id-1 {color: black;background-color: white;}#sk-container-id-1 pre{padding: 0;}#sk-container-id-1 div.sk-toggleable {background-color: white;}#sk-container-id-1 label.sk-toggleable__label {cursor: pointer;display: block;width: 100%;margin-bottom: 0;padding: 0.3em;box-sizing: border-box;text-align: center;}#sk-container-id-1 label.sk-toggleable__label-arrow:before {content: \"▸\";float: left;margin-right: 0.25em;color: #696969;}#sk-container-id-1 label.sk-toggleable__label-arrow:hover:before {color: black;}#sk-container-id-1 div.sk-estimator:hover label.sk-toggleable__label-arrow:before {color: black;}#sk-container-id-1 div.sk-toggleable__content {max-height: 0;max-width: 0;overflow: hidden;text-align: left;background-color: #f0f8ff;}#sk-container-id-1 div.sk-toggleable__content pre {margin: 0.2em;color: black;border-radius: 0.25em;background-color: #f0f8ff;}#sk-container-id-1 input.sk-toggleable__control:checked~div.sk-toggleable__content {max-height: 200px;max-width: 100%;overflow: auto;}#sk-container-id-1 input.sk-toggleable__control:checked~label.sk-toggleable__label-arrow:before {content: \"▾\";}#sk-container-id-1 div.sk-estimator input.sk-toggleable__control:checked~label.sk-toggleable__label {background-color: #d4ebff;}#sk-container-id-1 div.sk-label input.sk-toggleable__control:checked~label.sk-toggleable__label {background-color: #d4ebff;}#sk-container-id-1 input.sk-hidden--visually {border: 0;clip: rect(1px 1px 1px 1px);clip: rect(1px, 1px, 1px, 1px);height: 1px;margin: -1px;overflow: hidden;padding: 0;position: absolute;width: 1px;}#sk-container-id-1 div.sk-estimator {font-family: monospace;background-color: #f0f8ff;border: 1px dotted black;border-radius: 0.25em;box-sizing: border-box;margin-bottom: 0.5em;}#sk-container-id-1 div.sk-estimator:hover {background-color: #d4ebff;}#sk-container-id-1 div.sk-parallel-item::after {content: \"\";width: 100%;border-bottom: 1px solid gray;flex-grow: 1;}#sk-container-id-1 div.sk-label:hover label.sk-toggleable__label {background-color: #d4ebff;}#sk-container-id-1 div.sk-serial::before {content: \"\";position: absolute;border-left: 1px solid gray;box-sizing: border-box;top: 0;bottom: 0;left: 50%;z-index: 0;}#sk-container-id-1 div.sk-serial {display: flex;flex-direction: column;align-items: center;background-color: white;padding-right: 0.2em;padding-left: 0.2em;position: relative;}#sk-container-id-1 div.sk-item {position: relative;z-index: 1;}#sk-container-id-1 div.sk-parallel {display: flex;align-items: stretch;justify-content: center;background-color: white;position: relative;}#sk-container-id-1 div.sk-item::before, #sk-container-id-1 div.sk-parallel-item::before {content: \"\";position: absolute;border-left: 1px solid gray;box-sizing: border-box;top: 0;bottom: 0;left: 50%;z-index: -1;}#sk-container-id-1 div.sk-parallel-item {display: flex;flex-direction: column;z-index: 1;position: relative;background-color: white;}#sk-container-id-1 div.sk-parallel-item:first-child::after {align-self: flex-end;width: 50%;}#sk-container-id-1 div.sk-parallel-item:last-child::after {align-self: flex-start;width: 50%;}#sk-container-id-1 div.sk-parallel-item:only-child::after {width: 0;}#sk-container-id-1 div.sk-dashed-wrapped {border: 1px dashed gray;margin: 0 0.4em 0.5em 0.4em;box-sizing: border-box;padding-bottom: 0.4em;background-color: white;}#sk-container-id-1 div.sk-label label {font-family: monospace;font-weight: bold;display: inline-block;line-height: 1.2em;}#sk-container-id-1 div.sk-label-container {text-align: center;}#sk-container-id-1 div.sk-container {/* jupyter's `normalize.less` sets `[hidden] { display: none; }` but bootstrap.min.css set `[hidden] { display: none !important; }` so we also need the `!important` here to be able to override the default hidden behavior on the sphinx rendered scikit-learn.org. See: https://github.com/scikit-learn/scikit-learn/issues/21755 */display: inline-block !important;position: relative;}#sk-container-id-1 div.sk-text-repr-fallback {display: none;}</style><div id=\"sk-container-id-1\" class=\"sk-top-container\"><div class=\"sk-text-repr-fallback\"><pre>LGBMRanker(learning_rate=0.05, metric=&#x27;ndcg&#x27;, objective=&#x27;lambdarank&#x27;,\n",
       "           verbose=-1)</pre><b>In a Jupyter environment, please rerun this cell to show the HTML representation or trust the notebook. <br />On GitHub, the HTML representation is unable to render, please try loading this page with nbviewer.org.</b></div><div class=\"sk-container\" hidden><div class=\"sk-item\"><div class=\"sk-estimator sk-toggleable\"><input class=\"sk-toggleable__control sk-hidden--visually\" id=\"sk-estimator-id-1\" type=\"checkbox\" checked><label for=\"sk-estimator-id-1\" class=\"sk-toggleable__label sk-toggleable__label-arrow\">LGBMRanker</label><div class=\"sk-toggleable__content\"><pre>LGBMRanker(learning_rate=0.05, metric=&#x27;ndcg&#x27;, objective=&#x27;lambdarank&#x27;,\n",
       "           verbose=-1)</pre></div></div></div></div></div>"
      ],
      "text/plain": [
       "LGBMRanker(learning_rate=0.05, metric='ndcg', objective='lambdarank',\n",
       "           verbose=-1)"
      ]
     },
     "execution_count": 22,
     "metadata": {},
     "output_type": "execute_result"
    }
   ],
   "source": [
    "group_train = final_train.groupby('sessionId').size().to_list()\n",
    "\n",
    "\n",
    "ranker = lgb.LGBMRanker(\n",
    "    objective='lambdarank',\n",
    "    metric='ndcg',\n",
    "    num_leaves=31,\n",
    "    verbose=-1,\n",
    "    learning_rate=0.05,\n",
    "    n_estimators=100\n",
    ")\n",
    "\n",
    "# Train the model\n",
    "ranker.fit(final_train[feature_set], final_train[\"target\"], group=group_train,\n",
    "           )"
   ]
  },
  {
   "cell_type": "code",
   "execution_count": 23,
   "id": "1956fd25",
   "metadata": {
    "execution": {
     "iopub.execute_input": "2024-07-24T08:52:09.156735Z",
     "iopub.status.busy": "2024-07-24T08:52:09.156324Z",
     "iopub.status.idle": "2024-07-24T08:52:09.170263Z",
     "shell.execute_reply": "2024-07-24T08:52:09.169027Z"
    },
    "papermill": {
     "duration": 0.0281,
     "end_time": "2024-07-24T08:52:09.172670",
     "exception": false,
     "start_time": "2024-07-24T08:52:09.144570",
     "status": "completed"
    },
    "tags": []
   },
   "outputs": [
    {
     "name": "stdout",
     "output_type": "stream",
     "text": [
      "Model saved to ranking_model.lgb\n"
     ]
    }
   ],
   "source": [
    "# model is saved to be used in the api to make recommendations\n",
    "model_path = 'ranking_model.lgb'\n",
    "ranker.booster_.save_model(model_path)\n",
    "print(f'Model saved to {model_path}')"
   ]
  },
  {
   "cell_type": "code",
   "execution_count": null,
   "id": "849c6687",
   "metadata": {
    "papermill": {
     "duration": 0.010508,
     "end_time": "2024-07-24T08:52:09.194772",
     "exception": false,
     "start_time": "2024-07-24T08:52:09.184264",
     "status": "completed"
    },
    "tags": []
   },
   "outputs": [],
   "source": []
  }
 ],
 "metadata": {
  "kaggle": {
   "accelerator": "none",
   "dataSources": [
    {
     "datasetId": 5431513,
     "sourceId": 9014444,
     "sourceType": "datasetVersion"
    }
   ],
   "dockerImageVersionId": 30746,
   "isGpuEnabled": false,
   "isInternetEnabled": true,
   "language": "python",
   "sourceType": "notebook"
  },
  "kernelspec": {
   "display_name": "Python 3",
   "language": "python",
   "name": "python3"
  },
  "language_info": {
   "codemirror_mode": {
    "name": "ipython",
    "version": 3
   },
   "file_extension": ".py",
   "mimetype": "text/x-python",
   "name": "python",
   "nbconvert_exporter": "python",
   "pygments_lexer": "ipython3",
   "version": "3.10.13"
  },
  "papermill": {
   "default_parameters": {},
   "duration": 475.740499,
   "end_time": "2024-07-24T08:52:10.930212",
   "environment_variables": {},
   "exception": null,
   "input_path": "__notebook__.ipynb",
   "output_path": "__notebook__.ipynb",
   "parameters": {},
   "start_time": "2024-07-24T08:44:15.189713",
   "version": "2.5.0"
  }
 },
 "nbformat": 4,
 "nbformat_minor": 5
}
