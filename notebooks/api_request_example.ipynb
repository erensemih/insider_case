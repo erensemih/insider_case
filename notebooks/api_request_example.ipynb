{
 "cells": [
  {
   "cell_type": "code",
   "execution_count": 21,
   "id": "403e8298-39f5-4c2e-8d66-a1a05433bb47",
   "metadata": {},
   "outputs": [],
   "source": [
    "import requests\n",
    "import string\n",
    "\n",
    "# Define the API endpoint\n",
    "url = 'http://localhost:5000/recommend'\n",
    "import numpy as np\n",
    "\n",
    "# Number of rows\n",
    "n_rows = 100\n",
    "\n",
    "# Define the structure with random data for each column, except for sessionId and category\n",
    "data = {\"data\":{\n",
    "    'all_session_actions_feature': np.random.uniform(0, 1, n_rows).tolist(),\n",
    "    'all_session_actions_feature_lag_1': np.random.uniform(0, 1, n_rows).tolist(),\n",
    "    'all_session_actions_feature_lag_1_rolling_3_mean': np.random.uniform(0, 1, n_rows).tolist(),\n",
    "    'session_page_views_feature': np.random.uniform(0, 1, n_rows).tolist(),\n",
    "    'session_page_views_feature_lag_1': np.random.uniform(0, 1, n_rows).tolist(),\n",
    "    'session_page_views_feature_lag_1_rolling_3_mean': np.random.uniform(0, 1, n_rows).tolist(),\n",
    "    'session_success_feature': np.random.uniform(0, 1, n_rows).tolist(),\n",
    "    'session_success_feature_lag_1': np.random.uniform(0, 1, n_rows).tolist(),\n",
    "    'session_success_feature_lag_1_rolling_3_mean': np.random.uniform(0, 1, n_rows).tolist(),\n",
    "    'session_cart_feature': np.random.uniform(0, 1, n_rows).tolist(),\n",
    "    'session_cart_feature_lag_1': np.random.uniform(0, 1, n_rows).tolist(),\n",
    "    'session_cart_feature_lag_1_rolling_3_mean': np.random.uniform(0, 1, n_rows).tolist(),\n",
    "    'session_cost_change_feature': np.random.uniform(0, 1, n_rows).tolist(),\n",
    "    'session_cost_change_feature_lag_1': np.random.uniform(0, 1, n_rows).tolist(),\n",
    "    'session_cost_change_feature_lag_1_rolling_3_mean': np.random.uniform(0, 1, n_rows).tolist(),\n",
    "    'sessionId': np.full(n_rows, 1).tolist(),  # Same session ID for all rows\n",
    "    'category': np.random.choice(list(string.ascii_lowercase), n_rows).tolist()  # Random letters for category\n",
    "}}\n",
    "\n",
    "# Send the POST request\n",
    "response = requests.post(url, json=data)\n",
    "\n",
    "# Print the response\n"
   ]
  },
  {
   "cell_type": "code",
   "execution_count": 22,
   "id": "a1ca068b-0352-45b5-9c70-7b3d038a91b4",
   "metadata": {},
   "outputs": [
    {
     "data": {
      "text/plain": [
       "<Response [200]>"
      ]
     },
     "execution_count": 22,
     "metadata": {},
     "output_type": "execute_result"
    }
   ],
   "source": [
    "response"
   ]
  },
  {
   "cell_type": "code",
   "execution_count": 23,
   "id": "8e9ee80e-93f1-48e7-8df2-1aefce3c4a61",
   "metadata": {},
   "outputs": [
    {
     "data": {
      "text/plain": [
       "['h', 'l', 'k']"
      ]
     },
     "execution_count": 23,
     "metadata": {},
     "output_type": "execute_result"
    }
   ],
   "source": [
    "# passed random letters as categories\n",
    "response.json()[\"recommendations\"]"
   ]
  },
  {
   "cell_type": "code",
   "execution_count": null,
   "id": "0e9ebd9c-a4f9-4468-95fd-a38a8a63fd84",
   "metadata": {},
   "outputs": [],
   "source": []
  }
 ],
 "metadata": {
  "kernelspec": {
   "display_name": "Python 3 (ipykernel)",
   "language": "python",
   "name": "python3"
  },
  "language_info": {
   "codemirror_mode": {
    "name": "ipython",
    "version": 3
   },
   "file_extension": ".py",
   "mimetype": "text/x-python",
   "name": "python",
   "nbconvert_exporter": "python",
   "pygments_lexer": "ipython3",
   "version": "3.12.4"
  }
 },
 "nbformat": 4,
 "nbformat_minor": 5
}
